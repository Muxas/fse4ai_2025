{
  "cells": [
    {
      "cell_type": "markdown",
      "metadata": {},
      "source": [
        "# Remote Unix — Lab 03 "
      ]
    },
    {
      "cell_type": "markdown",
      "metadata": {},
      "source": [
        "## Preliminary steps\n",
        "\n",
        "1) Open your terminal\n",
        "2) Go to any working directory for homeworks\n",
        "3) Clone the repo: https://github.com/Muxas/fse4ai_2025\n",
        "4) cd fse4ai_2025\n",
        "5) Launch test environment: `docker compose up -d fse4ai_04_server fse4ai_04_client`\n",
        "6) Enter the “client” container: `docker exec -it fse4ai-fse4ai_04_client-1 bash` (name may differ)\n",
        "7) Remote server: `fse4ai_04_server`\n",
        "8) Remote user: `student`\n",
        "9) Remote password: `fse4ai`\n"
      ]
    },
    {
      "cell_type": "code",
      "execution_count": null,
      "metadata": {},
      "outputs": [],
      "source": [
        "%%bash\n",
        "git clone https://github.com/Muxas/fse4ai_2025\n",
        "cd fse4ai_2025\n",
        "docker compose up -d fse4ai_04_server fse4ai_04_client\n",
        "docker exec -it fse4ai-fse4ai_04_client-1 bash\n",
        "echo \"server: fse4ai_04_server, user: student, pass: fse4ai\"\n"
      ]
    },
    {
      "cell_type": "markdown",
      "metadata": {},
      "source": [
        "## 1) ssh-keygen\n",
        "\n",
        "Generate an ed25519 key (1024 bits option accepted) and save it as files `new_key_ed25519` and `new_key_ed25519.pub`. Then change its passphrase.\n"
      ]
    },
    {
      "cell_type": "code",
      "execution_count": null,
      "metadata": {},
      "outputs": [],
      "source": [
        "%%bash\n",
        "ssh-keygen -t ed25519 -b 1024 -f new_key_ed25519\n",
        "ssh-keygen -p -f new_key_ed25519\n"
      ]
    },
    {
      "cell_type": "markdown",
      "metadata": {},
      "source": [
        "## 2) ssh-copy-id\n",
        "\n",
        "Dry-run adding the new SSH key to `student@fse4ai_04_server`, then actually copy it.\n"
      ]
    },
    {
      "cell_type": "code",
      "execution_count": null,
      "metadata": {},
      "outputs": [],
      "source": [
        "%%bash\n",
        "ssh-copy-id -n -i new_key_ed25519.pub student@fse4ai_04_server\n",
        "ssh-copy-id -i new_key_ed25519.pub student@fse4ai_04_server\n"
      ]
    },
    {
      "cell_type": "markdown",
      "metadata": {},
      "source": [
        "## 3) nohup long-running job on remote\n",
        "\n",
        "a) SSH to the remote with the new key, run `nohup bash -c 'sleep 10; echo complete'` in background, redirect stdout to `std.out` and stderr to `std.err`, then disconnect.\n",
        "b) Do the same as (a) but in a **single** terminal command (fix: `sleep 10`, not `sleep10`).\n"
      ]
    },
    {
      "cell_type": "code",
      "execution_count": null,
      "metadata": {},
      "outputs": [],
      "source": [
        "%%bash\n",
        "ssh -i new_key_ed25519 student@fse4ai_04_server <<'EOF'\n",
        "nohup bash -c 'sleep 10; echo complete' > std.out 2> std.err &\n",
        "exit\n",
        "EOF\n",
        "ssh -f -i new_key_ed25519 student@fse4ai_04_server 'nohup bash -c \"sleep 10; echo complete\" > std.out 2> std.err &'\n"
      ]
    },
    {
      "cell_type": "markdown",
      "metadata": {},
      "source": [
        "## 4) Redirections, tee, and process substitution (client container)\n",
        "\n",
        "a) Redirect stdout of `ls -lh` to stderr.\n",
        "b) Redirect stdout and stderr into separate files `std.out` and `std.err`.\n",
        "c) Use `tee` so stdout is both saved to `std.out` and shown in terminal; stderr goes to `std.err`.\n",
        "d) Use process substitution so `ls -lh` stdout is tee'd into `std.out` and stderr tee'd into `std.err`.\n"
      ]
    },
    {
      "cell_type": "code",
      "execution_count": null,
      "metadata": {},
      "outputs": [],
      "source": [
        "%%bash\n",
        "ls -lh 1>&2\n",
        "ls -lh > std.out 2> std.err\n",
        "ls -lh 2> std.err | tee std.out\n",
        "ls -lh > >(tee -a std.out) 2> >(tee -a std.err >&2)\n"
      ]
    },
    {
      "cell_type": "markdown",
      "metadata": {},
      "source": [
        "## 5) Copying/downloading data with rsync (client container)\n",
        "\n",
        "a) Copy all files from `~/logs` on the remote into local `logs_local` **only if** size is between 1KB and 1MB; show progress.\n",
        "b) Copy all files from `~/logs` on the remote into local `logs_local` **only if the filename does not contain `10`**; show progress.\n"
      ]
    },
    {
      "cell_type": "code",
      "execution_count": null,
      "metadata": {},
      "outputs": [],
      "source": [
        "%%bash\n",
        "rsync -a --progress -e 'ssh -i new_key_ed25519' --max-size=1M --min-size=1K   student@fse4ai_04_server:logs logs_local\n",
        "\n",
        "rsync -a --progress -e 'ssh -i new_key_ed25519' --exclude='*10*'   student@fse4ai_04_server:logs logs_local\n"
      ]
    }
  ],
  "metadata": {
    "kernelspec": {
      "display_name": "Python 3",
      "language": "python",
      "name": "python3"
    },
    "language_info": {
      "name": "python",
      "version": "3.x"
    }
  },
  "nbformat": 4,
  "nbformat_minor": 5
}
