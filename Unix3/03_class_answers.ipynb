{
 "cells": [
  {
   "cell_type": "markdown",
   "id": "8423760c",
   "metadata": {},
   "source": [
    "# Unix Class Tasks — Set 03 with Answers (Bash)\n"
   ]
  },
  {
   "cell_type": "markdown",
   "id": "c8428449",
   "metadata": {},
   "source": [
    "## 1) Generate a new SSH key and change its passphrase\n",
    "Create an **ed25519** SSH key named `id_remote_ed25519` (with a comment `class03`) and then change its passphrase.\n",
    "- Hint: `ssh-keygen -t ed25519 -C 'class03' -f id_remote_ed25519`\n",
    "- Then: change the passphrase for this key."
   ]
  },
  {
   "cell_type": "code",
   "execution_count": null,
   "id": "afd81a6e",
   "metadata": {},
   "outputs": [],
   "source": [
    "%%bash\n",
    "## Generate an ed25519 key (modern default for new keys) with a helpful comment\n",
    "ssh-keygen -t ed25519 -C 'class03' -f id_remote_ed25519\n",
    "\n",
    "## Change passphrase for the key (you can press Enter for old passphrase if none)\n",
    "ssh-keygen -p -f id_remote_ed25519"
   ]
  },
  {
   "cell_type": "markdown",
   "id": "31f20d6a",
   "metadata": {},
   "source": [
    "## 2) Add key to ssh-agent and create a Host alias\n",
    "Start `ssh-agent`, add your new key, and create a minimal `~/.ssh/config` entry for an alias **uni04**\n",
    "that points to host `fse4ai_04_server` with user `student` and uses your `id_remote_ed25519` key.\n",
    "After creating the alias, test it with a dry connection (e.g., `ssh -o BatchMode=yes -F ~/.ssh/config uni04 true`)."
   ]
  },
  {
   "cell_type": "code",
   "execution_count": null,
   "id": "813b3631",
   "metadata": {},
   "outputs": [],
   "source": [
    "%%bash\n",
    "## Start agent (if not already running) and add the key\n",
    "eval \"$(ssh-agent -s)\"\n",
    "ssh-add ./id_remote_ed25519\n",
    "\n",
    "## Create a minimal SSH config entry (idempotent append)\n",
    "mkdir -p ~/.ssh && chmod 700 ~/.ssh\n",
    "cat >> ~/.ssh/config <<'EOF'\n",
    "Host uni04\n",
    "    HostName fse4ai_04_server\n",
    "    User student\n",
    "    IdentityFile ~/id_remote_ed25519\n",
    "    IdentitiesOnly yes\n",
    "EOF\n",
    "chmod 600 ~/.ssh/config\n",
    "\n",
    "## Dry connection using config; BatchMode avoids password prompts\n",
    "ssh -o BatchMode=yes uni04 true || true\n",
    "# NOTE: If host keys are unknown, first run: ssh -o StrictHostKeyChecking=accept-new uni04 true"
   ]
  },
  {
   "cell_type": "markdown",
   "id": "959c349c",
   "metadata": {},
   "source": [
    "## 3) Copy public key to the server (dry run + real)\n",
    "Do a **dry-run** of copying your public key to the remote server using the alias from task 2, then perform the real copy.\n",
    "- Dry-run: `ssh-copy-id -n -i id_remote_ed25519.pub uni04`\n",
    "- Real: `ssh-copy-id -i id_remote_ed25519.pub uni04`"
   ]
  },
  {
   "cell_type": "code",
   "execution_count": null,
   "id": "d5dd6026",
   "metadata": {},
   "outputs": [],
   "source": [
    "%%bash\n",
    "## Dry run (shows what would be done)\n",
    "ssh-copy-id -n -i id_remote_ed25519.pub uni04\n",
    "\n",
    "## Real copy (may prompt for the remote password once)\n",
    "ssh-copy-id -i id_remote_ed25519.pub uni04"
   ]
  },
  {
   "cell_type": "markdown",
   "id": "0a30bf14",
   "metadata": {},
   "source": [
    "## 4) Run a long job remotely with nohup (two ways)\n",
    "Launch `sleep 12; echo done` on the remote in the background with `nohup`, capturing stdout to `std.out` and stderr to `std.err`, then disconnect.\n",
    "a) Connect first, run commands, then `exit`.\n",
    "b) Do it in a **single** one‑liner using `ssh -f`."
   ]
  },
  {
   "cell_type": "code",
   "execution_count": null,
   "id": "8b31ce2f",
   "metadata": {},
   "outputs": [],
   "source": [
    "%%bash\n",
    "## (a) Interactive approach\n",
    "ssh uni04 <<'REMOTE'\n",
    "nohup bash -c 'sleep 12; echo done' > std.out 2> std.err &\n",
    "exit\n",
    "REMOTE\n",
    "\n",
    "## (b) Single-shot non-interactive; -f backgrounds ssh after auth\n",
    "ssh -f uni04 \"nohup bash -c 'sleep 12; echo done' > std.out 2> std.err &\""
   ]
  },
  {
   "cell_type": "markdown",
   "id": "1a856114",
   "metadata": {},
   "source": [
    "## 5) Redirect streams and mirror them to files\n",
    "From the **client** container, redirect the output of `ls -lh` so that stdout goes to stderr, and then use `tee` to both display and save outputs:\n",
    "1) Send stdout to stderr.\n",
    "2) Save stdout to `std.out` and stderr to `std.err` while still showing stdout live.\n",
    "3) Use **process substitution** so both streams are displayed and saved into their files."
   ]
  },
  {
   "cell_type": "code",
   "execution_count": null,
   "id": "f5afdd2e",
   "metadata": {},
   "outputs": [],
   "source": [
    "%%bash\n",
    "## 1) stdout -> stderr\n",
    "ls -lh 1>&2\n",
    "\n",
    "## 2) Save stdout while showing it; stderr to file\n",
    "ls -lh 2> std.err | tee std.out\n",
    "\n",
    "## 3) Process substitution (Bash feature): duplicates streams cleanly\n",
    "ls -lh > >(tee -a std.out) 2> >(tee -a std.err >&2)"
   ]
  },
  {
   "cell_type": "markdown",
   "id": "7e4525cc",
   "metadata": {},
   "source": [
    "## 6) rsync with size window and excludes (from remote logs/)\n",
    "From the **client**, copy files from remote `~/logs` to local `logs_local/` **only** if they are between 2KB and 2MB.\n",
    "Exclude files whose names contain `tmp` and show progress."
   ]
  },
  {
   "cell_type": "code",
   "execution_count": null,
   "id": "6d1886e9",
   "metadata": {},
   "outputs": [],
   "source": [
    "%%bash\n",
    "mkdir -p logs_local\n",
    "rsync -av --progress \\\n",
    "  --min-size=2K --max-size=2M \\\n",
    "  --exclude='*tmp*' \\\n",
    "  uni04:logs/ ./logs_local/"
   ]
  },
  {
   "cell_type": "markdown",
   "id": "241b0548",
   "metadata": {},
   "source": [
    "## 7) Mirror a directory (deletes local extras)\n",
    "Make a **mirror** of remote `~/logs/` into local `logs_mirror/` so that files deleted on remote are also deleted locally.\n",
    "Show itemized changes."
   ]
  },
  {
   "cell_type": "code",
   "execution_count": null,
   "id": "8de0f959",
   "metadata": {},
   "outputs": [],
   "source": [
    "%%bash\n",
    "mkdir -p logs_mirror\n",
    "rsync -av --progress --delete --itemize-changes uni04:logs/ ./logs_mirror/"
   ]
  },
  {
   "cell_type": "markdown",
   "id": "de5a4266",
   "metadata": {},
   "source": [
    "## 8) Copy a single file using scp with explicit options\n",
    "Copy `~/logs/server.log` from the remote to the current directory using `scp`.\n",
    "Use `-o IdentitiesOnly=yes` to force your key and `-o StrictHostKeyChecking=accept-new` on first connect."
   ]
  },
  {
   "cell_type": "code",
   "execution_count": null,
   "id": "580b3dec",
   "metadata": {},
   "outputs": [],
   "source": [
    "%%bash\n",
    "## Note: OpenSSH 9+ uses SFTP-mode scp by default (safer). Options are passed through to SSH.\n",
    "scp -o IdentitiesOnly=yes -o StrictHostKeyChecking=accept-new uni04:logs/server.log ./"
   ]
  }
 ],
 "metadata": {
  "language_info": {
   "name": "python"
  }
 },
 "nbformat": 4,
 "nbformat_minor": 5
}
