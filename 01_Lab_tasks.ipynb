{
  "cells": [
    {
      "cell_type": "markdown",
      "metadata": {},
      "source": [
        "# Unix Lab - Local Machine (Tasks Only)\n",
        "\n",
        "## Problem Sheet: Unix on Local Machine\n",
        "\n",
        "This notebook contains the lab tasks without solutions. Complete each task using appropriate bash/unix commands.\n",
        "\n",
        "## Preliminary Steps\n",
        "\n",
        "Before starting the homework tasks, follow these preliminary steps:\n",
        "\n",
        "1. Open your terminal\n",
        "2. Go to a directory of your liking where you would like to download all the homeworks\n",
        "3. Clone repository https://github.com/Muxas/fse4ai_2024\n",
        "4. Go to directory fse4ai_2024\n",
        "5. Launch test environment docker compose run --rm fse4ai_01\n"
      ]
    },
    {
      "cell_type": "markdown",
      "metadata": {},
      "source": [
        "## Task 1: Package Management\n",
        "\n",
        "Using system package manager, install package figlet, run command figlet hello ubuntu, remove package figlet.\n"
      ]
    },
    {
      "cell_type": "markdown",
      "metadata": {},
      "source": [
        "## Task 2: File Creation and Deletion\n",
        "\n",
        "Create 10 files with template file{number} (e.g., file1, file2, …, file10) within one command. Search within the tree for files file4, file5, file6 and delete them. (Don't Use rm command).\n"
      ]
    },
    {
      "cell_type": "markdown",
      "metadata": {},
      "source": [
        "## Task 3: Directory Listing and Redirection\n",
        "\n",
        "List the contents of your current directory, including the ownership and permissions, and redirect the output to a file called contents.txt within your current directory.\n"
      ]
    },
    {
      "cell_type": "markdown",
      "metadata": {},
      "source": [
        "## Task 4: File Counting\n",
        "\n",
        "Count the number of files with \"file\" in file name within the current directory and its subdirectories. Note: each line output from the find command represents a file.\n"
      ]
    },
    {
      "cell_type": "markdown",
      "metadata": {},
      "source": [
        "## Task 5: File Sorting and Error Handling\n",
        "\n",
        "Sort the /etc/passwd file, place the results in a file called foo.txt, and trap any errors in a file called err.txt.\n"
      ]
    },
    {
      "cell_type": "markdown",
      "metadata": {},
      "source": [
        "## Task 6: Directory Permissions and Ownership\n",
        "\n",
        "Create a directory named Box where all the files are automatically owned by the group users, and can only be deleted by the user who created them.\n"
      ]
    },
    {
      "cell_type": "markdown",
      "metadata": {},
      "source": [
        "## Task 7: Text File Counting (All Depths)\n",
        "\n",
        "In the current directory and its subdirectories, count the number of txt files.\n"
      ]
    },
    {
      "cell_type": "markdown",
      "metadata": {},
      "source": [
        "## Task 8: Text File Counting (First Depth Only)\n",
        "\n",
        "In the current directory, count the number of txt files residing at the first depth level.\n"
      ]
    },
    {
      "cell_type": "markdown",
      "metadata": {},
      "source": [
        "## Task 9: Text File Counting with Prefix\n",
        "\n",
        "In the current directory, count the number of txt files residing at any depth level and with the prefix \"00221\".\n"
      ]
    },
    {
      "cell_type": "markdown",
      "metadata": {},
      "source": [
        "## Task 10: Line Counting in Text Files\n",
        "\n",
        "In the current directory and subdirectories, count the number of lines in each txt file.\n"
      ]
    },
    {
      "cell_type": "markdown",
      "metadata": {},
      "source": [
        "## Task 11: Directory Size Calculation and Sorting\n",
        "\n",
        "Calculate the size of each subdirectory in the root (/) directory and sort them by size.\n"
      ]
    },
    {
      "cell_type": "markdown",
      "metadata": {},
      "source": [
        "## Task 12: Largest Directory Size (Excluding System Directories)\n",
        "\n",
        "Calculate the size of all directories located at filesystem root (/) except the /sys and /proc and print the results for the largest one.\n"
      ]
    },
    {
      "cell_type": "markdown",
      "metadata": {},
      "source": [
        "## Task 13: Directory Sizes (Excluding System and Zero-Sized Directories)\n",
        "\n",
        "Calculate the size of all directories located at filesystem root (/) except the /sys and /proc and excluding zero-sized directories, and print all results.\n"
      ]
    }
  ],
  "metadata": {
    "language_info": {
      "name": "python"
    }
  },
  "nbformat": 4,
  "nbformat_minor": 2
}
