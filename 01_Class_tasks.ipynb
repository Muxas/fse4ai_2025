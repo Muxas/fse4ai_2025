{
  "cells": [
    {
      "cell_type": "markdown",
      "metadata": {},
      "source": [
        "# Unix Lab - Advanced File Operations (Tasks Only)\n",
        "\n",
        "## Problem Sheet: Advanced Unix Commands and File Management\n",
        "\n",
        "This notebook contains advanced lab tasks without solutions. Complete each task using appropriate bash/unix commands, exploring the same commands from the original lab in different contexts and combinations.\n",
        "\n",
        "## Preliminary Steps\n",
        "\n",
        "Before starting the homework tasks, follow these preliminary steps:\n",
        "\n",
        "1. Open your terminal\n",
        "2. Go to a directory of your liking where you would like to download all the homeworks\n",
        "3. Clone repository https://github.com/Muxas/fse4ai_2024\n",
        "4. Go to directory fse4ai_2024\n",
        "5. Launch test environment docker compose run --rm fse4ai_01\n"
      ]
    },
    {
      "cell_type": "markdown",
      "metadata": {},
      "source": [
        "## Task 1: System Information Gathering\n",
        "\n",
        "Create a comprehensive system report by gathering information about installed packages, system users, and current directory contents. Install a text art package, display a welcome message, then clean up the package. Save all output to a system report file.\n"
      ]
    },
    {
      "cell_type": "markdown",
      "metadata": {},
      "source": [
        "## Task 2: Batch File Operations and Cleanup\n",
        "\n",
        "Create a series of test files for a project, then perform selective cleanup operations. Create multiple file types, find and remove specific patterns, and organize the remaining files.\n"
      ]
    },
    {
      "cell_type": "markdown",
      "metadata": {},
      "source": [
        "## Task 3: File Analysis and Reporting\n",
        "\n",
        "Analyze the current directory structure and create detailed reports about file types, permissions, and ownership. Generate multiple output files for different analysis aspects.\n"
      ]
    },
    {
      "cell_type": "markdown",
      "metadata": {},
      "source": [
        "## Task 4: Advanced Directory Management\n",
        "\n",
        "Create a complex directory structure with specific permissions and ownership requirements. Set up a shared workspace where files inherit group ownership and have restricted deletion permissions.\n"
      ]
    },
    {
      "cell_type": "markdown",
      "metadata": {},
      "source": [
        "## Task 5: Comprehensive File Search and Analysis\n",
        "\n",
        "Perform advanced file searching operations across different directory levels and file types. Create a comprehensive inventory of all files with detailed analysis.\n"
      ]
    },
    {
      "cell_type": "markdown",
      "metadata": {},
      "source": [
        "## Task 6: System Resource Analysis\n",
        "\n",
        "Analyze system resources and directory usage patterns. Create reports on disk usage, directory sizes, and system performance metrics.\n"
      ]
    }
  ],
  "metadata": {
    "language_info": {
      "name": "python"
    }
  },
  "nbformat": 4,
  "nbformat_minor": 2
}
