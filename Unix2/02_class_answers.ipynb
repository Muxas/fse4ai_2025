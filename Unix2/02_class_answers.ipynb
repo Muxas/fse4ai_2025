{
 "cells": [
  {
   "cell_type": "markdown",
   "id": "27d2e924",
   "metadata": {},
   "source": [
    "# Unix Class Tasks — Set 02 with Answers (Bash)\n"
   ]
  },
  {
   "cell_type": "markdown",
   "id": "5869e645",
   "metadata": {},
   "source": [
    "## 1) Lowercase entire file with sed\n",
    "Using `sed`, convert all characters of `sample_sed.txt` to lowercase and print to stdout."
   ]
  },
  {
   "cell_type": "code",
   "execution_count": null,
   "id": "8d1e43bd",
   "metadata": {},
   "outputs": [],
   "source": [
    "%%bash\n",
    "sed 's/.*/\\L&/' sample_sed.txt"
   ]
  },
  {
   "cell_type": "markdown",
   "id": "abc8d647",
   "metadata": {},
   "source": [
    "## 2) Replace only 3rd occurrence per line\n",
    "In `events.txt`, replace the **third** occurrence of the word `error` with `notice` on each line."
   ]
  },
  {
   "cell_type": "code",
   "execution_count": null,
   "id": "62904815",
   "metadata": {},
   "outputs": [],
   "source": [
    "%%bash\n",
    "sed 's/error/notice/3g' events.txt"
   ]
  },
  {
   "cell_type": "markdown",
   "id": "fe44c018",
   "metadata": {},
   "source": [
    "## 3) Insert a line after every TODO\n",
    "In `notes.txt`, after every line containing `TODO`, insert a new line that says `-- follow up next class --`."
   ]
  },
  {
   "cell_type": "code",
   "execution_count": null,
   "id": "39a1096c",
   "metadata": {},
   "outputs": [],
   "source": [
    "%%bash\n",
    "sed '/TODO/a -- follow up next class --' notes.txt"
   ]
  },
  {
   "cell_type": "markdown",
   "id": "8c834278",
   "metadata": {},
   "source": [
    "## 4) Chain multiple substitutions\n",
    "With one `sed` call on `text_multi.txt`, change all `foo` to `bar` **and** all `yes` to `no`."
   ]
  },
  {
   "cell_type": "code",
   "execution_count": null,
   "id": "3b59711d",
   "metadata": {},
   "outputs": [],
   "source": [
    "%%bash\n",
    "sed -e 's/foo/bar/g' -e 's/yes/no/g' text_multi.txt"
   ]
  },
  {
   "cell_type": "markdown",
   "id": "d28d0a30",
   "metadata": {},
   "source": [
    "## 5) Replace all digits with `*`\n",
    "In `mixed.txt`, replace **every digit** with `*`."
   ]
  },
  {
   "cell_type": "code",
   "execution_count": null,
   "id": "c69a10db",
   "metadata": {},
   "outputs": [],
   "source": [
    "%%bash\n",
    "sed 's/[0-9]/*/g' mixed.txt"
   ]
  },
  {
   "cell_type": "markdown",
   "id": "077804c2",
   "metadata": {},
   "source": [
    "## 6) Swap first and last name in a TSV column\n",
    "Given a tab‑separated file `names.tsv` where the **second** column is `First<TAB>Last`, rewrite it so that column 2 becomes `Last, First` (keep other columns intact)."
   ]
  },
  {
   "cell_type": "code",
   "execution_count": null,
   "id": "c34d91b5",
   "metadata": {},
   "outputs": [],
   "source": [
    "%%bash\n",
    "sed -E 's/^([^\\t]*)\\t([^ \\t]+)\\t([^ \\t]+)\\t(.*)$/\\1\\t\\3, \\2\\t\\4/' names.tsv"
   ]
  },
  {
   "cell_type": "markdown",
   "id": "bd95ed84",
   "metadata": {},
   "source": [
    "## 7) Create files with specific permissions and find them\n",
    "Create two files and set their permissions to `640` and `444`. Then, using `find`, list only the file with mode `640` in the current directory."
   ]
  },
  {
   "cell_type": "code",
   "execution_count": null,
   "id": "686601ad",
   "metadata": {},
   "outputs": [],
   "source": [
    "%%bash\n",
    "touch file_a file_b\n",
    "chmod 640 file_a\n",
    "chmod 444 file_b\n",
    "find . -maxdepth 1 -type f -perm 640"
   ]
  },
  {
   "cell_type": "markdown",
   "id": "547f9fb8",
   "metadata": {},
   "source": [
    "## 8) Create trees and delete even‑numbered files\n",
    "Create directories `alpha` and `beta` and files `0.txt`..`9.txt` inside each. Then delete only the **even‑numbered** files in both directories using one `find` command and a regex."
   ]
  },
  {
   "cell_type": "code",
   "execution_count": null,
   "id": "050a2877",
   "metadata": {},
   "outputs": [],
   "source": [
    "%%bash\n",
    "mkdir -p alpha beta\n",
    "touch {alpha,beta}/{0..9}.txt\n",
    "find . -regextype posix-egrep -type f -regex './(alpha|beta)/([0-9]*[02468])\\.txt' -delete"
   ]
  },
  {
   "cell_type": "markdown",
   "id": "421ff7fe",
   "metadata": {},
   "source": [
    "## 9) Files accessed in the last 30 minutes\n",
    "List files in the current directory tree that were **accessed** within the last 30 minutes."
   ]
  },
  {
   "cell_type": "code",
   "execution_count": null,
   "id": "398776e7",
   "metadata": {},
   "outputs": [],
   "source": [
    "%%bash\n",
    "find . -amin -30 -type f"
   ]
  },
  {
   "cell_type": "markdown",
   "id": "69bb4c2e",
   "metadata": {},
   "source": [
    "## 10) Find files between 100 KB and 500 KB\n",
    "Under the current directory, find regular files larger than 100 KB and smaller than 500 KB."
   ]
  },
  {
   "cell_type": "code",
   "execution_count": null,
   "id": "e4ac6b3b",
   "metadata": {},
   "outputs": [],
   "source": [
    "%%bash\n",
    "find . -type f -size +100k -size -500k"
   ]
  },
  {
   "cell_type": "markdown",
   "id": "0219fe1d",
   "metadata": {},
   "source": [
    "## 11) Count lines of /etc/passwd into a variable\n",
    "Create a **local variable** `num_users` and assign the number of lines in `/etc/passwd` (only the number). Print the variable."
   ]
  },
  {
   "cell_type": "code",
   "execution_count": null,
   "id": "f1514d14",
   "metadata": {},
   "outputs": [],
   "source": [
    "%%bash\n",
    "num_users=$(wc -l < /etc/passwd)\n",
    "echo \"$num_users\""
   ]
  },
  {
   "cell_type": "markdown",
   "id": "fa90d734",
   "metadata": {},
   "source": [
    "## 12) Depth‑limited search for .log files\n",
    "Find `*.log` files but only up to depth 2 (current directory and its immediate subdirectories)."
   ]
  },
  {
   "cell_type": "code",
   "execution_count": null,
   "id": "f88627c6",
   "metadata": {},
   "outputs": [],
   "source": [
    "%%bash\n",
    "find . -maxdepth 2 -type f -name '*.log'"
   ]
  },
  {
   "cell_type": "markdown",
   "id": "3bb6ef52",
   "metadata": {},
   "source": [
    "## 13) Prefix each line with its line number (sed)\n",
    "Using `sed`, print `report.txt` with line numbers in the form `001: <line>`."
   ]
  },
  {
   "cell_type": "code",
   "execution_count": null,
   "id": "ab3b8f7b",
   "metadata": {},
   "outputs": [],
   "source": [
    "%%bash\n",
    "nl -ba -w3 -s': ' report.txt"
   ]
  }
 ],
 "metadata": {
  "language_info": {
   "name": "python"
  }
 },
 "nbformat": 4,
 "nbformat_minor": 5
}
