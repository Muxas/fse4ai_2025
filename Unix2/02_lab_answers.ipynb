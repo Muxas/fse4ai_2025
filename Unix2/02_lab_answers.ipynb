{
  "cells": [
    {
      "cell_type": "markdown",
      "metadata": {},
      "source": [
        "# Unix on Local Machine — Lab 02\n",
        "\n"
      ]
    },
    {
      "cell_type": "markdown",
      "metadata": {},
      "source": [
        "## Preliminary steps\n",
        "\n",
        "1) Open your terminal\n",
        "2) Go to a directory of your liking where you would like to download all the homeworks\n",
        "3) Clone repository https://github.com/Muxas/fse4ai_2025\n",
        "4) Go to directory fse4ai_2025\n",
        "5) Launch test environment: docker compose run --rm fse4ai_02\n"
      ]
    },
    {
      "cell_type": "code",
      "execution_count": null,
      "metadata": {},
      "outputs": [],
      "source": [
        "%%bash\n",
        "# 1) Open terminal (manual)\n",
        "# 2) Choose directory (example)\n",
        "# cd ~/workdir\n",
        "# 3) Clone repo\n",
        "git clone https://github.com/Muxas/fse4ai_2025\n",
        "# 4) Go to directory\n",
        "cd fse4ai_2025\n",
        "# 5) Launch test environment\n",
        "docker compose run --rm fse4ai_02\n"
      ]
    },
    {
      "cell_type": "markdown",
      "metadata": {},
      "source": [
        "## 1) sed: uppercase → lowercase in testfile_sed.txt\n",
        "\n",
        "Use sed to replace all uppercase characters of the text with lowercase characters in testfile_sed.txt\n"
      ]
    },
    {
      "cell_type": "code",
      "execution_count": null,
      "metadata": {},
      "outputs": [],
      "source": [
        "%%bash\n",
        "# sed: uppercase → lowercase\n",
        "sed 's/\\(.*\\)/\\L\\1/' testfile_sed.txt\n"
      ]
    },
    {
      "cell_type": "markdown",
      "metadata": {},
      "source": [
        "## 2) sed: replace 2nd occurrence per line\n",
        "\n",
        "Use sed to replace the word 'danger' on 2nd occurrence of every line from the whole file testfile_sed.txt\n"
      ]
    },
    {
      "cell_type": "code",
      "execution_count": null,
      "metadata": {},
      "outputs": [],
      "source": [
        "%%bash\n",
        "# sed: replace 2nd occurrence 'danger' → 'safety' per line\n",
        "sed 's/danger/safety/2g' testfile_sed.txt\n"
      ]
    },
    {
      "cell_type": "markdown",
      "metadata": {},
      "source": [
        "## 3) sed: add a new line after each 'danger' match\n",
        "\n",
        "Use sed to add a new line \"This is new line with text after match\" after every 'danger' pattern match in testfile_sed.txt\n"
      ]
    },
    {
      "cell_type": "code",
      "execution_count": null,
      "metadata": {},
      "outputs": [],
      "source": [
        "%%bash\n",
        "# sed: add line after each 'danger' match\n",
        "sed '/danger/a \"This is new line with text after match\"' testfile_sed.txt\n"
      ]
    },
    {
      "cell_type": "markdown",
      "metadata": {},
      "source": [
        "## 4) sed: chain multiple replacements\n",
        "\n",
        "Chain sed commands with multiple -e flags. Change each occurrence of 'danger' to 'safety' and 'hate' to 'love' in testfile_sed.txt\n"
      ]
    },
    {
      "cell_type": "code",
      "execution_count": null,
      "metadata": {},
      "outputs": [],
      "source": [
        "%%bash\n",
        "# sed: multiple -e flags\n",
        "sed -e 's/danger/safety/g' -e 's/hate/love/g' testfile_sed.txt\n"
      ]
    },
    {
      "cell_type": "markdown",
      "metadata": {},
      "source": [
        "## 5) sed: replace all digits with %\n",
        "\n",
        "Use sed to replace all numeric sequences in the file with the '%' symbol\n"
      ]
    },
    {
      "cell_type": "code",
      "execution_count": null,
      "metadata": {},
      "outputs": [],
      "source": [
        "%%bash\n",
        "# sed: replace all digits with %\n",
        "sed -e 's/[0-9]/%/g' testfile_sed.txt\n"
      ]
    },
    {
      "cell_type": "markdown",
      "metadata": {},
      "source": [
        "## 6) sed: switch name pairs in a TSV\n",
        "\n",
        "Switch pairs of names (First name, Last name) in the second column of a tab-separated file while preserving other columns. Use file names_sed.txt\n"
      ]
    },
    {
      "cell_type": "code",
      "execution_count": null,
      "metadata": {},
      "outputs": [],
      "source": [
        "%%bash\n",
        "# sed: switch 'First, Last' → 'Last, First' in 2nd column of a TSV\n",
        "# NOTE: The PDF shows a wrapped command; here it's normalized.\n",
        "# Adjust regex to your actual data format as needed.\n",
        "sed -r -e 's/^(.*)\\t(.*),\\s*(.*)\\t(Republican|Democratic)\\t(.*)$/\\1\\t\\3, \\2\\t\\4\\t\\5/g' names_sed.txt\n"
      ]
    },
    {
      "cell_type": "markdown",
      "metadata": {},
      "source": [
        "## 7) find: locate file by permissions\n",
        "\n",
        "In the current directory create two files with permissions rwxrwxr-x and r--r--r--. Then using find search for the rwxrwxr-x file.\n"
      ]
    },
    {
      "cell_type": "code",
      "execution_count": null,
      "metadata": {},
      "outputs": [],
      "source": [
        "%%bash\n",
        "# create files\n",
        "touch a.sh b.py\n",
        "chmod 775 a.sh\n",
        "chmod 444 b.py\n",
        "# find by exact permission bits (rwxrwxr-x)\n",
        "find . -type f -perm 775\n"
      ]
    },
    {
      "cell_type": "markdown",
      "metadata": {},
      "source": [
        "## 8) Create files and remove selected ones with find/regex\n",
        "\n",
        "Create multiple files in directories 'foo' and 'bar' named 0.txt...9.txt. Then find selected files in both directories and remove them (per PDF).\n"
      ]
    },
    {
      "cell_type": "code",
      "execution_count": null,
      "metadata": {},
      "outputs": [],
      "source": [
        "%%bash\n",
        "# create files in foo and bar\n",
        "mkdir -p foo bar\n",
        "touch {foo,bar}/{0..9}.txt\n",
        "# per PDF example (pattern selects specific filenames)\n",
        "find . -type f -regextype posix-egrep -regex \"./(foo|bar)/(0|2|4|8).txt\" -delete\n"
      ]
    },
    {
      "cell_type": "markdown",
      "metadata": {},
      "source": [
        "## 9) find: accessed within last hour\n",
        "\n",
        "Find all the files in the current directory that were accessed in the last 1 hour.\n"
      ]
    },
    {
      "cell_type": "code",
      "execution_count": null,
      "metadata": {},
      "outputs": [],
      "source": [
        "%%bash\n",
        "# accessed within last 60 minutes\n",
        "find . -amin -60\n"
      ]
    },
    {
      "cell_type": "markdown",
      "metadata": {},
      "source": [
        "## 10) find: size range across filesystem\n",
        "\n",
        "Find all the files in the entire file system, which are greater than 1MB and less than 4MB.\n"
      ]
    },
    {
      "cell_type": "code",
      "execution_count": null,
      "metadata": {},
      "outputs": [],
      "source": [
        "%%bash\n",
        "# across filesystem (may require privileges and be slow)\n",
        "find / -size +1M -size -4M\n"
      ]
    },
    {
      "cell_type": "markdown",
      "metadata": {},
      "source": [
        "## 11) shell: capture nr_files from /etc/passwd\n",
        "\n",
        "Create a local variable nr_files and assign the number of lines found in /etc/passwd, containing only the number.\n"
      ]
    },
    {
      "cell_type": "code",
      "execution_count": null,
      "metadata": {},
      "outputs": [],
      "source": [
        "%%bash\n",
        "# variable containing only the line count of /etc/passwd\n",
        "nr_files=`wc -l /etc/passwd | sed -E 's/^(.*) .*/\\1/'`\n",
        "echo \"$nr_files\"\n"
      ]
    }
  ],
  "metadata": {
    "kernelspec": {
      "display_name": "Python 3",
      "language": "python",
      "name": "python3"
    },
    "language_info": {
      "codemirror_mode": {
        "name": "ipython",
        "version": 3
      },
      "file_extension": ".py",
      "mimetype": "text/x-python",
      "name": "python",
      "nbconvert_exporter": "python",
      "pygments_lexer": "ipython3",
      "version": "3.9.6"
    }
  },
  "nbformat": 4,
  "nbformat_minor": 5
}
